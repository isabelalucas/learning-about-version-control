{
 "cells": [
  {
   "cell_type": "markdown",
   "id": "33e74529-7a31-4b82-b8ff-95e602de4d25",
   "metadata": {},
   "source": [
    "# Individual Assignment 2 - Question 8"
   ]
  },
  {
   "cell_type": "code",
   "execution_count": 1,
   "id": "c36fda51-ebce-433d-bc46-61388e5cca94",
   "metadata": {},
   "outputs": [
    {
     "data": {
      "text/plain": [
       "8"
      ]
     },
     "execution_count": 1,
     "metadata": {},
     "output_type": "execute_result"
    }
   ],
   "source": [
    "3+5\n"
   ]
  },
  {
   "cell_type": "code",
   "execution_count": null,
   "id": "dccd3356-4e86-43a1-a1c5-2890f6dec918",
   "metadata": {},
   "outputs": [],
   "source": []
  }
 ],
 "metadata": {
  "kernelspec": {
   "display_name": "Python 3 (ipykernel)",
   "language": "python",
   "name": "python3"
  },
  "language_info": {
   "codemirror_mode": {
    "name": "ipython",
    "version": 3
   },
   "file_extension": ".py",
   "mimetype": "text/x-python",
   "name": "python",
   "nbconvert_exporter": "python",
   "pygments_lexer": "ipython3",
   "version": "3.9.7"
  }
 },
 "nbformat": 4,
 "nbformat_minor": 5
}
